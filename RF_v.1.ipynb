{
 "cells": [
  {
   "cell_type": "code",
   "execution_count": 1,
   "metadata": {
    "id": "lgK1t-o-Z6gv"
   },
   "outputs": [],
   "source": [
    "import pandas as pd\n",
    "import nltk\n",
    "from nltk.tokenize import word_tokenize"
   ]
  },
  {
   "cell_type": "code",
   "execution_count": 2,
   "metadata": {
    "id": "QrHbTHz1mdqx"
   },
   "outputs": [],
   "source": [
    "df= pd.read_csv(\"lingustic_quality_inter.csv\")"
   ]
  },
  {
   "cell_type": "code",
   "execution_count": 3,
   "metadata": {
    "id": "iHdYO3b9mlns"
   },
   "outputs": [],
   "source": [
    "df1= df.copy()"
   ]
  },
  {
   "cell_type": "code",
   "execution_count": 4,
   "metadata": {
    "colab": {
     "base_uri": "https://localhost:8080/",
     "height": 691
    },
    "id": "p_FNUfZSmpMf",
    "outputId": "04ebbe46-2a0f-499e-e580-9c324dcdd90a"
   },
   "outputs": [
    {
     "data": {
      "text/html": [
       "<div>\n",
       "<style scoped>\n",
       "    .dataframe tbody tr th:only-of-type {\n",
       "        vertical-align: middle;\n",
       "    }\n",
       "\n",
       "    .dataframe tbody tr th {\n",
       "        vertical-align: top;\n",
       "    }\n",
       "\n",
       "    .dataframe thead th {\n",
       "        text-align: right;\n",
       "    }\n",
       "</style>\n",
       "<table border=\"1\" class=\"dataframe\">\n",
       "  <thead>\n",
       "    <tr style=\"text-align: right;\">\n",
       "      <th></th>\n",
       "      <th>index</th>\n",
       "      <th>log_messages</th>\n",
       "      <th>log_level</th>\n",
       "      <th>label</th>\n",
       "      <th>lemmas</th>\n",
       "      <th>pos</th>\n",
       "      <th>tag</th>\n",
       "      <th>dep</th>\n",
       "      <th>alpha</th>\n",
       "      <th>stop</th>\n",
       "    </tr>\n",
       "  </thead>\n",
       "  <tbody>\n",
       "    <tr>\n",
       "      <th>0</th>\n",
       "      <td>7118</td>\n",
       "      <td>opening * *</td>\n",
       "      <td>info</td>\n",
       "      <td>0.0</td>\n",
       "      <td>open * *</td>\n",
       "      <td>VERB PUNCT PUNCT</td>\n",
       "      <td>VBG NFP NFP</td>\n",
       "      <td>ROOT punct punct</td>\n",
       "      <td>1</td>\n",
       "      <td>0</td>\n",
       "    </tr>\n",
       "    <tr>\n",
       "      <th>1</th>\n",
       "      <td>7133</td>\n",
       "      <td>initializing * *</td>\n",
       "      <td>info</td>\n",
       "      <td>0.0</td>\n",
       "      <td>initialize * *</td>\n",
       "      <td>VERB PUNCT PUNCT</td>\n",
       "      <td>VBG NFP NFP</td>\n",
       "      <td>ROOT punct punct</td>\n",
       "      <td>1</td>\n",
       "      <td>0</td>\n",
       "    </tr>\n",
       "    <tr>\n",
       "      <th>2</th>\n",
       "      <td>7611</td>\n",
       "      <td>moved * *</td>\n",
       "      <td>info</td>\n",
       "      <td>0.0</td>\n",
       "      <td>move * *</td>\n",
       "      <td>VERB PUNCT PUNCT</td>\n",
       "      <td>VBN NFP NFP</td>\n",
       "      <td>ROOT punct punct</td>\n",
       "      <td>1</td>\n",
       "      <td>0</td>\n",
       "    </tr>\n",
       "    <tr>\n",
       "      <th>3</th>\n",
       "      <td>7801</td>\n",
       "      <td>renamed * *</td>\n",
       "      <td>info</td>\n",
       "      <td>0.0</td>\n",
       "      <td>rename * *</td>\n",
       "      <td>VERB PUNCT PUNCT</td>\n",
       "      <td>VBN NFP NFP</td>\n",
       "      <td>ROOT punct punct</td>\n",
       "      <td>1</td>\n",
       "      <td>0</td>\n",
       "    </tr>\n",
       "    <tr>\n",
       "      <th>4</th>\n",
       "      <td>8392</td>\n",
       "      <td>bypassed * *</td>\n",
       "      <td>info</td>\n",
       "      <td>0.0</td>\n",
       "      <td>bypass * *</td>\n",
       "      <td>VERB PUNCT PUNCT</td>\n",
       "      <td>VBN NFP NFP</td>\n",
       "      <td>ROOT punct punct</td>\n",
       "      <td>1</td>\n",
       "      <td>0</td>\n",
       "    </tr>\n",
       "    <tr>\n",
       "      <th>...</th>\n",
       "      <td>...</td>\n",
       "      <td>...</td>\n",
       "      <td>...</td>\n",
       "      <td>...</td>\n",
       "      <td>...</td>\n",
       "      <td>...</td>\n",
       "      <td>...</td>\n",
       "      <td>...</td>\n",
       "      <td>...</td>\n",
       "      <td>...</td>\n",
       "    </tr>\n",
       "    <tr>\n",
       "      <th>2409</th>\n",
       "      <td>10315</td>\n",
       "      <td>wait for rolling restart</td>\n",
       "      <td>info</td>\n",
       "      <td>0.0</td>\n",
       "      <td>wait for rolling restart</td>\n",
       "      <td>VERB ADP NOUN NOUN</td>\n",
       "      <td>VB IN NN NN</td>\n",
       "      <td>ROOT prep amod pobj</td>\n",
       "      <td>4</td>\n",
       "      <td>1</td>\n",
       "    </tr>\n",
       "    <tr>\n",
       "      <th>2410</th>\n",
       "      <td>10317</td>\n",
       "      <td>wait for rolling restart</td>\n",
       "      <td>info</td>\n",
       "      <td>0.0</td>\n",
       "      <td>wait for rolling restart</td>\n",
       "      <td>VERB ADP NOUN NOUN</td>\n",
       "      <td>VB IN NN NN</td>\n",
       "      <td>ROOT prep amod pobj</td>\n",
       "      <td>4</td>\n",
       "      <td>1</td>\n",
       "    </tr>\n",
       "    <tr>\n",
       "      <th>2411</th>\n",
       "      <td>10318</td>\n",
       "      <td>wait for rolling restart</td>\n",
       "      <td>info</td>\n",
       "      <td>0.0</td>\n",
       "      <td>wait for rolling restart</td>\n",
       "      <td>VERB ADP NOUN NOUN</td>\n",
       "      <td>VB IN NN NN</td>\n",
       "      <td>ROOT prep amod pobj</td>\n",
       "      <td>4</td>\n",
       "      <td>1</td>\n",
       "    </tr>\n",
       "    <tr>\n",
       "      <th>2412</th>\n",
       "      <td>10320</td>\n",
       "      <td>wait for rolling restart</td>\n",
       "      <td>info</td>\n",
       "      <td>0.0</td>\n",
       "      <td>wait for rolling restart</td>\n",
       "      <td>VERB ADP NOUN NOUN</td>\n",
       "      <td>VB IN NN NN</td>\n",
       "      <td>ROOT prep amod pobj</td>\n",
       "      <td>4</td>\n",
       "      <td>1</td>\n",
       "    </tr>\n",
       "    <tr>\n",
       "      <th>2413</th>\n",
       "      <td>10523</td>\n",
       "      <td>waiting for reassignment completion</td>\n",
       "      <td>info</td>\n",
       "      <td>0.0</td>\n",
       "      <td>wait for reassignment completion</td>\n",
       "      <td>VERB ADP NOUN NOUN</td>\n",
       "      <td>VBG IN NN NN</td>\n",
       "      <td>ROOT prep compound pobj</td>\n",
       "      <td>4</td>\n",
       "      <td>1</td>\n",
       "    </tr>\n",
       "  </tbody>\n",
       "</table>\n",
       "<p>2414 rows × 10 columns</p>\n",
       "</div>"
      ],
      "text/plain": [
       "      index                         log_messages log_level  label  \\\n",
       "0      7118                          opening * *      info    0.0   \n",
       "1      7133                     initializing * *      info    0.0   \n",
       "2      7611                            moved * *      info    0.0   \n",
       "3      7801                          renamed * *      info    0.0   \n",
       "4      8392                         bypassed * *      info    0.0   \n",
       "...     ...                                  ...       ...    ...   \n",
       "2409  10315             wait for rolling restart      info    0.0   \n",
       "2410  10317             wait for rolling restart      info    0.0   \n",
       "2411  10318             wait for rolling restart      info    0.0   \n",
       "2412  10320             wait for rolling restart      info    0.0   \n",
       "2413  10523  waiting for reassignment completion      info    0.0   \n",
       "\n",
       "                                lemmas                 pos           tag  \\\n",
       "0                             open * *    VERB PUNCT PUNCT   VBG NFP NFP   \n",
       "1                       initialize * *    VERB PUNCT PUNCT   VBG NFP NFP   \n",
       "2                             move * *    VERB PUNCT PUNCT   VBN NFP NFP   \n",
       "3                           rename * *    VERB PUNCT PUNCT   VBN NFP NFP   \n",
       "4                           bypass * *    VERB PUNCT PUNCT   VBN NFP NFP   \n",
       "...                                ...                 ...           ...   \n",
       "2409          wait for rolling restart  VERB ADP NOUN NOUN   VB IN NN NN   \n",
       "2410          wait for rolling restart  VERB ADP NOUN NOUN   VB IN NN NN   \n",
       "2411          wait for rolling restart  VERB ADP NOUN NOUN   VB IN NN NN   \n",
       "2412          wait for rolling restart  VERB ADP NOUN NOUN   VB IN NN NN   \n",
       "2413  wait for reassignment completion  VERB ADP NOUN NOUN  VBG IN NN NN   \n",
       "\n",
       "                          dep  alpha  stop  \n",
       "0            ROOT punct punct      1     0  \n",
       "1            ROOT punct punct      1     0  \n",
       "2            ROOT punct punct      1     0  \n",
       "3            ROOT punct punct      1     0  \n",
       "4            ROOT punct punct      1     0  \n",
       "...                       ...    ...   ...  \n",
       "2409      ROOT prep amod pobj      4     1  \n",
       "2410      ROOT prep amod pobj      4     1  \n",
       "2411      ROOT prep amod pobj      4     1  \n",
       "2412      ROOT prep amod pobj      4     1  \n",
       "2413  ROOT prep compound pobj      4     1  \n",
       "\n",
       "[2414 rows x 10 columns]"
      ]
     },
     "execution_count": 4,
     "metadata": {},
     "output_type": "execute_result"
    }
   ],
   "source": [
    "df1"
   ]
  },
  {
   "cell_type": "code",
   "execution_count": 5,
   "metadata": {
    "colab": {
     "base_uri": "https://localhost:8080/",
     "height": 297
    },
    "id": "h6m5rNBCmrQ8",
    "outputId": "5348b061-6de9-495c-fc2a-7f4b211948b0"
   },
   "outputs": [
    {
     "data": {
      "text/html": [
       "<div>\n",
       "<style scoped>\n",
       "    .dataframe tbody tr th:only-of-type {\n",
       "        vertical-align: middle;\n",
       "    }\n",
       "\n",
       "    .dataframe tbody tr th {\n",
       "        vertical-align: top;\n",
       "    }\n",
       "\n",
       "    .dataframe thead th {\n",
       "        text-align: right;\n",
       "    }\n",
       "</style>\n",
       "<table border=\"1\" class=\"dataframe\">\n",
       "  <thead>\n",
       "    <tr style=\"text-align: right;\">\n",
       "      <th></th>\n",
       "      <th>index</th>\n",
       "      <th>label</th>\n",
       "      <th>alpha</th>\n",
       "      <th>stop</th>\n",
       "    </tr>\n",
       "  </thead>\n",
       "  <tbody>\n",
       "    <tr>\n",
       "      <th>count</th>\n",
       "      <td>2414.000000</td>\n",
       "      <td>2414.000000</td>\n",
       "      <td>2414.000000</td>\n",
       "      <td>2414.000000</td>\n",
       "    </tr>\n",
       "    <tr>\n",
       "      <th>mean</th>\n",
       "      <td>7414.997929</td>\n",
       "      <td>0.285418</td>\n",
       "      <td>2.712925</td>\n",
       "      <td>0.218724</td>\n",
       "    </tr>\n",
       "    <tr>\n",
       "      <th>std</th>\n",
       "      <td>2941.310109</td>\n",
       "      <td>0.451707</td>\n",
       "      <td>1.184241</td>\n",
       "      <td>0.502177</td>\n",
       "    </tr>\n",
       "    <tr>\n",
       "      <th>min</th>\n",
       "      <td>1590.000000</td>\n",
       "      <td>0.000000</td>\n",
       "      <td>0.000000</td>\n",
       "      <td>0.000000</td>\n",
       "    </tr>\n",
       "    <tr>\n",
       "      <th>25%</th>\n",
       "      <td>7135.500000</td>\n",
       "      <td>0.000000</td>\n",
       "      <td>2.000000</td>\n",
       "      <td>0.000000</td>\n",
       "    </tr>\n",
       "    <tr>\n",
       "      <th>50%</th>\n",
       "      <td>8297.000000</td>\n",
       "      <td>0.000000</td>\n",
       "      <td>3.000000</td>\n",
       "      <td>0.000000</td>\n",
       "    </tr>\n",
       "    <tr>\n",
       "      <th>75%</th>\n",
       "      <td>9477.750000</td>\n",
       "      <td>1.000000</td>\n",
       "      <td>3.000000</td>\n",
       "      <td>0.000000</td>\n",
       "    </tr>\n",
       "    <tr>\n",
       "      <th>max</th>\n",
       "      <td>11059.000000</td>\n",
       "      <td>1.000000</td>\n",
       "      <td>10.000000</td>\n",
       "      <td>4.000000</td>\n",
       "    </tr>\n",
       "  </tbody>\n",
       "</table>\n",
       "</div>"
      ],
      "text/plain": [
       "              index        label        alpha         stop\n",
       "count   2414.000000  2414.000000  2414.000000  2414.000000\n",
       "mean    7414.997929     0.285418     2.712925     0.218724\n",
       "std     2941.310109     0.451707     1.184241     0.502177\n",
       "min     1590.000000     0.000000     0.000000     0.000000\n",
       "25%     7135.500000     0.000000     2.000000     0.000000\n",
       "50%     8297.000000     0.000000     3.000000     0.000000\n",
       "75%     9477.750000     1.000000     3.000000     0.000000\n",
       "max    11059.000000     1.000000    10.000000     4.000000"
      ]
     },
     "execution_count": 5,
     "metadata": {},
     "output_type": "execute_result"
    }
   ],
   "source": [
    "df1.describe()"
   ]
  },
  {
   "cell_type": "code",
   "execution_count": 6,
   "metadata": {
    "colab": {
     "base_uri": "https://localhost:8080/"
    },
    "id": "nQW6219dpucV",
    "outputId": "23a776bb-ad31-45de-fe29-f8d8583943d8"
   },
   "outputs": [
    {
     "name": "stdout",
     "output_type": "stream",
     "text": [
      "Index(['index', 'log_messages', 'log_level', 'label', 'lemmas', 'pos', 'tag',\n",
      "       'dep', 'alpha', 'stop'],\n",
      "      dtype='object')\n"
     ]
    }
   ],
   "source": [
    "print(df1.columns)"
   ]
  },
  {
   "cell_type": "code",
   "execution_count": 7,
   "metadata": {
    "id": "RY6Y0k6-qS2s"
   },
   "outputs": [],
   "source": [
    "df1 = df1.drop(['label', 'lemmas', 'pos', 'tag', 'dep', 'alpha', 'stop'], axis=1)"
   ]
  },
  {
   "cell_type": "code",
   "execution_count": 8,
   "metadata": {
    "colab": {
     "base_uri": "https://localhost:8080/",
     "height": 419
    },
    "id": "cLJeZV8cqj-O",
    "outputId": "031d8a63-b676-48ab-db16-27ff156db9dd"
   },
   "outputs": [
    {
     "data": {
      "text/html": [
       "<div>\n",
       "<style scoped>\n",
       "    .dataframe tbody tr th:only-of-type {\n",
       "        vertical-align: middle;\n",
       "    }\n",
       "\n",
       "    .dataframe tbody tr th {\n",
       "        vertical-align: top;\n",
       "    }\n",
       "\n",
       "    .dataframe thead th {\n",
       "        text-align: right;\n",
       "    }\n",
       "</style>\n",
       "<table border=\"1\" class=\"dataframe\">\n",
       "  <thead>\n",
       "    <tr style=\"text-align: right;\">\n",
       "      <th></th>\n",
       "      <th>index</th>\n",
       "      <th>log_messages</th>\n",
       "      <th>log_level</th>\n",
       "    </tr>\n",
       "  </thead>\n",
       "  <tbody>\n",
       "    <tr>\n",
       "      <th>0</th>\n",
       "      <td>7118</td>\n",
       "      <td>opening * *</td>\n",
       "      <td>info</td>\n",
       "    </tr>\n",
       "    <tr>\n",
       "      <th>1</th>\n",
       "      <td>7133</td>\n",
       "      <td>initializing * *</td>\n",
       "      <td>info</td>\n",
       "    </tr>\n",
       "    <tr>\n",
       "      <th>2</th>\n",
       "      <td>7611</td>\n",
       "      <td>moved * *</td>\n",
       "      <td>info</td>\n",
       "    </tr>\n",
       "    <tr>\n",
       "      <th>3</th>\n",
       "      <td>7801</td>\n",
       "      <td>renamed * *</td>\n",
       "      <td>info</td>\n",
       "    </tr>\n",
       "    <tr>\n",
       "      <th>4</th>\n",
       "      <td>8392</td>\n",
       "      <td>bypassed * *</td>\n",
       "      <td>info</td>\n",
       "    </tr>\n",
       "    <tr>\n",
       "      <th>...</th>\n",
       "      <td>...</td>\n",
       "      <td>...</td>\n",
       "      <td>...</td>\n",
       "    </tr>\n",
       "    <tr>\n",
       "      <th>2409</th>\n",
       "      <td>10315</td>\n",
       "      <td>wait for rolling restart</td>\n",
       "      <td>info</td>\n",
       "    </tr>\n",
       "    <tr>\n",
       "      <th>2410</th>\n",
       "      <td>10317</td>\n",
       "      <td>wait for rolling restart</td>\n",
       "      <td>info</td>\n",
       "    </tr>\n",
       "    <tr>\n",
       "      <th>2411</th>\n",
       "      <td>10318</td>\n",
       "      <td>wait for rolling restart</td>\n",
       "      <td>info</td>\n",
       "    </tr>\n",
       "    <tr>\n",
       "      <th>2412</th>\n",
       "      <td>10320</td>\n",
       "      <td>wait for rolling restart</td>\n",
       "      <td>info</td>\n",
       "    </tr>\n",
       "    <tr>\n",
       "      <th>2413</th>\n",
       "      <td>10523</td>\n",
       "      <td>waiting for reassignment completion</td>\n",
       "      <td>info</td>\n",
       "    </tr>\n",
       "  </tbody>\n",
       "</table>\n",
       "<p>2414 rows × 3 columns</p>\n",
       "</div>"
      ],
      "text/plain": [
       "      index                         log_messages log_level\n",
       "0      7118                          opening * *      info\n",
       "1      7133                     initializing * *      info\n",
       "2      7611                            moved * *      info\n",
       "3      7801                          renamed * *      info\n",
       "4      8392                         bypassed * *      info\n",
       "...     ...                                  ...       ...\n",
       "2409  10315             wait for rolling restart      info\n",
       "2410  10317             wait for rolling restart      info\n",
       "2411  10318             wait for rolling restart      info\n",
       "2412  10320             wait for rolling restart      info\n",
       "2413  10523  waiting for reassignment completion      info\n",
       "\n",
       "[2414 rows x 3 columns]"
      ]
     },
     "execution_count": 8,
     "metadata": {},
     "output_type": "execute_result"
    }
   ],
   "source": [
    "df1"
   ]
  },
  {
   "cell_type": "code",
   "execution_count": 9,
   "metadata": {
    "colab": {
     "base_uri": "https://localhost:8080/"
    },
    "id": "1W2NQcv7qlJX",
    "outputId": "4946e2a5-845f-469c-da38-39099ebb977d"
   },
   "outputs": [],
   "source": [
    "# Remove the star sign (*) from the 'log_messages' column\n",
    "df1['log_messages'] = df1['log_messages'].str.replace('*', '')\n"
   ]
  },
  {
   "cell_type": "code",
   "execution_count": 10,
   "metadata": {
    "colab": {
     "base_uri": "https://localhost:8080/",
     "height": 419
    },
    "id": "-kaUv8aOrdCk",
    "outputId": "07ac05af-4d95-4b9d-9e99-0f5822a3aa33"
   },
   "outputs": [
    {
     "data": {
      "text/html": [
       "<div>\n",
       "<style scoped>\n",
       "    .dataframe tbody tr th:only-of-type {\n",
       "        vertical-align: middle;\n",
       "    }\n",
       "\n",
       "    .dataframe tbody tr th {\n",
       "        vertical-align: top;\n",
       "    }\n",
       "\n",
       "    .dataframe thead th {\n",
       "        text-align: right;\n",
       "    }\n",
       "</style>\n",
       "<table border=\"1\" class=\"dataframe\">\n",
       "  <thead>\n",
       "    <tr style=\"text-align: right;\">\n",
       "      <th></th>\n",
       "      <th>index</th>\n",
       "      <th>log_messages</th>\n",
       "      <th>log_level</th>\n",
       "    </tr>\n",
       "  </thead>\n",
       "  <tbody>\n",
       "    <tr>\n",
       "      <th>0</th>\n",
       "      <td>7118</td>\n",
       "      <td>opening</td>\n",
       "      <td>info</td>\n",
       "    </tr>\n",
       "    <tr>\n",
       "      <th>1</th>\n",
       "      <td>7133</td>\n",
       "      <td>initializing</td>\n",
       "      <td>info</td>\n",
       "    </tr>\n",
       "    <tr>\n",
       "      <th>2</th>\n",
       "      <td>7611</td>\n",
       "      <td>moved</td>\n",
       "      <td>info</td>\n",
       "    </tr>\n",
       "    <tr>\n",
       "      <th>3</th>\n",
       "      <td>7801</td>\n",
       "      <td>renamed</td>\n",
       "      <td>info</td>\n",
       "    </tr>\n",
       "    <tr>\n",
       "      <th>4</th>\n",
       "      <td>8392</td>\n",
       "      <td>bypassed</td>\n",
       "      <td>info</td>\n",
       "    </tr>\n",
       "    <tr>\n",
       "      <th>...</th>\n",
       "      <td>...</td>\n",
       "      <td>...</td>\n",
       "      <td>...</td>\n",
       "    </tr>\n",
       "    <tr>\n",
       "      <th>2409</th>\n",
       "      <td>10315</td>\n",
       "      <td>wait for rolling restart</td>\n",
       "      <td>info</td>\n",
       "    </tr>\n",
       "    <tr>\n",
       "      <th>2410</th>\n",
       "      <td>10317</td>\n",
       "      <td>wait for rolling restart</td>\n",
       "      <td>info</td>\n",
       "    </tr>\n",
       "    <tr>\n",
       "      <th>2411</th>\n",
       "      <td>10318</td>\n",
       "      <td>wait for rolling restart</td>\n",
       "      <td>info</td>\n",
       "    </tr>\n",
       "    <tr>\n",
       "      <th>2412</th>\n",
       "      <td>10320</td>\n",
       "      <td>wait for rolling restart</td>\n",
       "      <td>info</td>\n",
       "    </tr>\n",
       "    <tr>\n",
       "      <th>2413</th>\n",
       "      <td>10523</td>\n",
       "      <td>waiting for reassignment completion</td>\n",
       "      <td>info</td>\n",
       "    </tr>\n",
       "  </tbody>\n",
       "</table>\n",
       "<p>2414 rows × 3 columns</p>\n",
       "</div>"
      ],
      "text/plain": [
       "      index                         log_messages log_level\n",
       "0      7118                            opening        info\n",
       "1      7133                       initializing        info\n",
       "2      7611                              moved        info\n",
       "3      7801                            renamed        info\n",
       "4      8392                           bypassed        info\n",
       "...     ...                                  ...       ...\n",
       "2409  10315             wait for rolling restart      info\n",
       "2410  10317             wait for rolling restart      info\n",
       "2411  10318             wait for rolling restart      info\n",
       "2412  10320             wait for rolling restart      info\n",
       "2413  10523  waiting for reassignment completion      info\n",
       "\n",
       "[2414 rows x 3 columns]"
      ]
     },
     "execution_count": 10,
     "metadata": {},
     "output_type": "execute_result"
    }
   ],
   "source": [
    "df1"
   ]
  },
  {
   "cell_type": "code",
   "execution_count": 11,
   "metadata": {
    "id": "kO8BsHRkrfwi"
   },
   "outputs": [],
   "source": [
    "# Group the data by 'log_level' and count the occurrences of each level\n",
    "log_level_counts = df1['log_level'].value_counts()"
   ]
  },
  {
   "cell_type": "code",
   "execution_count": 12,
   "metadata": {
    "colab": {
     "base_uri": "https://localhost:8080/"
    },
    "id": "lapiNxBirtSM",
    "outputId": "9c17a948-465a-44b8-e60f-edc233ae3af4"
   },
   "outputs": [
    {
     "name": "stdout",
     "output_type": "stream",
     "text": [
      "log_level\n",
      "info     1873\n",
      "error     541\n",
      "Name: count, dtype: int64\n"
     ]
    }
   ],
   "source": [
    "print(log_level_counts)"
   ]
  },
  {
   "cell_type": "code",
   "execution_count": 13,
   "metadata": {
    "colab": {
     "base_uri": "https://localhost:8080/"
    },
    "id": "Qq3JGwpUwQZk",
    "outputId": "2f8314e3-3793-43f7-ecd7-9617519e3ced"
   },
   "outputs": [
    {
     "name": "stderr",
     "output_type": "stream",
     "text": [
      "[nltk_data] Downloading package punkt to\n",
      "[nltk_data]     C:\\Users\\socce\\AppData\\Roaming\\nltk_data...\n",
      "[nltk_data]   Package punkt is already up-to-date!\n"
     ]
    },
    {
     "data": {
      "text/plain": [
       "True"
      ]
     },
     "execution_count": 13,
     "metadata": {},
     "output_type": "execute_result"
    }
   ],
   "source": [
    "import nltk\n",
    "nltk.download('punkt')"
   ]
  },
  {
   "cell_type": "code",
   "execution_count": null,
   "metadata": {
    "id": "B2aZziBPtOUs"
   },
   "outputs": [],
   "source": []
  },
  {
   "cell_type": "code",
   "execution_count": 14,
   "metadata": {
    "id": "k9H12SdtrxGq"
   },
   "outputs": [],
   "source": [
    "# Tokenize the log messages\n",
    "df1['tokenized_log_messages'] = df1['log_messages'].apply(word_tokenize)"
   ]
  },
  {
   "cell_type": "code",
   "execution_count": 15,
   "metadata": {
    "colab": {
     "base_uri": "https://localhost:8080/",
     "height": 672
    },
    "id": "aP_RLHGCtEGl",
    "outputId": "eec68dfa-2492-4b57-c344-1302cce927dd"
   },
   "outputs": [
    {
     "data": {
      "text/html": [
       "<div>\n",
       "<style scoped>\n",
       "    .dataframe tbody tr th:only-of-type {\n",
       "        vertical-align: middle;\n",
       "    }\n",
       "\n",
       "    .dataframe tbody tr th {\n",
       "        vertical-align: top;\n",
       "    }\n",
       "\n",
       "    .dataframe thead th {\n",
       "        text-align: right;\n",
       "    }\n",
       "</style>\n",
       "<table border=\"1\" class=\"dataframe\">\n",
       "  <thead>\n",
       "    <tr style=\"text-align: right;\">\n",
       "      <th></th>\n",
       "      <th>index</th>\n",
       "      <th>log_messages</th>\n",
       "      <th>log_level</th>\n",
       "      <th>tokenized_log_messages</th>\n",
       "    </tr>\n",
       "  </thead>\n",
       "  <tbody>\n",
       "    <tr>\n",
       "      <th>0</th>\n",
       "      <td>7118</td>\n",
       "      <td>opening</td>\n",
       "      <td>info</td>\n",
       "      <td>[opening]</td>\n",
       "    </tr>\n",
       "    <tr>\n",
       "      <th>1</th>\n",
       "      <td>7133</td>\n",
       "      <td>initializing</td>\n",
       "      <td>info</td>\n",
       "      <td>[initializing]</td>\n",
       "    </tr>\n",
       "    <tr>\n",
       "      <th>2</th>\n",
       "      <td>7611</td>\n",
       "      <td>moved</td>\n",
       "      <td>info</td>\n",
       "      <td>[moved]</td>\n",
       "    </tr>\n",
       "    <tr>\n",
       "      <th>3</th>\n",
       "      <td>7801</td>\n",
       "      <td>renamed</td>\n",
       "      <td>info</td>\n",
       "      <td>[renamed]</td>\n",
       "    </tr>\n",
       "    <tr>\n",
       "      <th>4</th>\n",
       "      <td>8392</td>\n",
       "      <td>bypassed</td>\n",
       "      <td>info</td>\n",
       "      <td>[bypassed]</td>\n",
       "    </tr>\n",
       "    <tr>\n",
       "      <th>...</th>\n",
       "      <td>...</td>\n",
       "      <td>...</td>\n",
       "      <td>...</td>\n",
       "      <td>...</td>\n",
       "    </tr>\n",
       "    <tr>\n",
       "      <th>2409</th>\n",
       "      <td>10315</td>\n",
       "      <td>wait for rolling restart</td>\n",
       "      <td>info</td>\n",
       "      <td>[wait, for, rolling, restart]</td>\n",
       "    </tr>\n",
       "    <tr>\n",
       "      <th>2410</th>\n",
       "      <td>10317</td>\n",
       "      <td>wait for rolling restart</td>\n",
       "      <td>info</td>\n",
       "      <td>[wait, for, rolling, restart]</td>\n",
       "    </tr>\n",
       "    <tr>\n",
       "      <th>2411</th>\n",
       "      <td>10318</td>\n",
       "      <td>wait for rolling restart</td>\n",
       "      <td>info</td>\n",
       "      <td>[wait, for, rolling, restart]</td>\n",
       "    </tr>\n",
       "    <tr>\n",
       "      <th>2412</th>\n",
       "      <td>10320</td>\n",
       "      <td>wait for rolling restart</td>\n",
       "      <td>info</td>\n",
       "      <td>[wait, for, rolling, restart]</td>\n",
       "    </tr>\n",
       "    <tr>\n",
       "      <th>2413</th>\n",
       "      <td>10523</td>\n",
       "      <td>waiting for reassignment completion</td>\n",
       "      <td>info</td>\n",
       "      <td>[waiting, for, reassignment, completion]</td>\n",
       "    </tr>\n",
       "  </tbody>\n",
       "</table>\n",
       "<p>2414 rows × 4 columns</p>\n",
       "</div>"
      ],
      "text/plain": [
       "      index                         log_messages log_level  \\\n",
       "0      7118                            opening        info   \n",
       "1      7133                       initializing        info   \n",
       "2      7611                              moved        info   \n",
       "3      7801                            renamed        info   \n",
       "4      8392                           bypassed        info   \n",
       "...     ...                                  ...       ...   \n",
       "2409  10315             wait for rolling restart      info   \n",
       "2410  10317             wait for rolling restart      info   \n",
       "2411  10318             wait for rolling restart      info   \n",
       "2412  10320             wait for rolling restart      info   \n",
       "2413  10523  waiting for reassignment completion      info   \n",
       "\n",
       "                        tokenized_log_messages  \n",
       "0                                    [opening]  \n",
       "1                               [initializing]  \n",
       "2                                      [moved]  \n",
       "3                                    [renamed]  \n",
       "4                                   [bypassed]  \n",
       "...                                        ...  \n",
       "2409             [wait, for, rolling, restart]  \n",
       "2410             [wait, for, rolling, restart]  \n",
       "2411             [wait, for, rolling, restart]  \n",
       "2412             [wait, for, rolling, restart]  \n",
       "2413  [waiting, for, reassignment, completion]  \n",
       "\n",
       "[2414 rows x 4 columns]"
      ]
     },
     "execution_count": 15,
     "metadata": {},
     "output_type": "execute_result"
    }
   ],
   "source": [
    "df1"
   ]
  },
  {
   "cell_type": "code",
   "execution_count": 16,
   "metadata": {
    "id": "9jlk3qXxA0SN"
   },
   "outputs": [],
   "source": [
    "from sklearn.feature_extraction.text import TfidfVectorizer"
   ]
  },
  {
   "cell_type": "code",
   "execution_count": 17,
   "metadata": {
    "id": "-namqchftqUx"
   },
   "outputs": [],
   "source": [
    "# Feature extraction using TF-IDF\n",
    "tfidf_vectorizer = TfidfVectorizer()\n",
    "X = tfidf_vectorizer.fit_transform(df1['log_messages'])"
   ]
  },
  {
   "cell_type": "code",
   "execution_count": 18,
   "metadata": {
    "id": "CA22AvRjA5V9"
   },
   "outputs": [],
   "source": [
    "# Label encoding\n",
    "df1['log_level'] = df1['log_level'].map({'info': 0, 'error': 1})\n",
    "y = df['log_level']"
   ]
  },
  {
   "cell_type": "code",
   "execution_count": 19,
   "metadata": {
    "colab": {
     "base_uri": "https://localhost:8080/",
     "height": 419
    },
    "id": "VAqCQKJPBYay",
    "outputId": "7a9f58d9-ff95-4c69-c2b4-8442b0ae7612"
   },
   "outputs": [
    {
     "data": {
      "text/html": [
       "<div>\n",
       "<style scoped>\n",
       "    .dataframe tbody tr th:only-of-type {\n",
       "        vertical-align: middle;\n",
       "    }\n",
       "\n",
       "    .dataframe tbody tr th {\n",
       "        vertical-align: top;\n",
       "    }\n",
       "\n",
       "    .dataframe thead th {\n",
       "        text-align: right;\n",
       "    }\n",
       "</style>\n",
       "<table border=\"1\" class=\"dataframe\">\n",
       "  <thead>\n",
       "    <tr style=\"text-align: right;\">\n",
       "      <th></th>\n",
       "      <th>index</th>\n",
       "      <th>log_messages</th>\n",
       "      <th>log_level</th>\n",
       "      <th>tokenized_log_messages</th>\n",
       "    </tr>\n",
       "  </thead>\n",
       "  <tbody>\n",
       "    <tr>\n",
       "      <th>0</th>\n",
       "      <td>7118</td>\n",
       "      <td>opening</td>\n",
       "      <td>0</td>\n",
       "      <td>[opening]</td>\n",
       "    </tr>\n",
       "    <tr>\n",
       "      <th>1</th>\n",
       "      <td>7133</td>\n",
       "      <td>initializing</td>\n",
       "      <td>0</td>\n",
       "      <td>[initializing]</td>\n",
       "    </tr>\n",
       "    <tr>\n",
       "      <th>2</th>\n",
       "      <td>7611</td>\n",
       "      <td>moved</td>\n",
       "      <td>0</td>\n",
       "      <td>[moved]</td>\n",
       "    </tr>\n",
       "    <tr>\n",
       "      <th>3</th>\n",
       "      <td>7801</td>\n",
       "      <td>renamed</td>\n",
       "      <td>0</td>\n",
       "      <td>[renamed]</td>\n",
       "    </tr>\n",
       "    <tr>\n",
       "      <th>4</th>\n",
       "      <td>8392</td>\n",
       "      <td>bypassed</td>\n",
       "      <td>0</td>\n",
       "      <td>[bypassed]</td>\n",
       "    </tr>\n",
       "    <tr>\n",
       "      <th>...</th>\n",
       "      <td>...</td>\n",
       "      <td>...</td>\n",
       "      <td>...</td>\n",
       "      <td>...</td>\n",
       "    </tr>\n",
       "    <tr>\n",
       "      <th>2409</th>\n",
       "      <td>10315</td>\n",
       "      <td>wait for rolling restart</td>\n",
       "      <td>0</td>\n",
       "      <td>[wait, for, rolling, restart]</td>\n",
       "    </tr>\n",
       "    <tr>\n",
       "      <th>2410</th>\n",
       "      <td>10317</td>\n",
       "      <td>wait for rolling restart</td>\n",
       "      <td>0</td>\n",
       "      <td>[wait, for, rolling, restart]</td>\n",
       "    </tr>\n",
       "    <tr>\n",
       "      <th>2411</th>\n",
       "      <td>10318</td>\n",
       "      <td>wait for rolling restart</td>\n",
       "      <td>0</td>\n",
       "      <td>[wait, for, rolling, restart]</td>\n",
       "    </tr>\n",
       "    <tr>\n",
       "      <th>2412</th>\n",
       "      <td>10320</td>\n",
       "      <td>wait for rolling restart</td>\n",
       "      <td>0</td>\n",
       "      <td>[wait, for, rolling, restart]</td>\n",
       "    </tr>\n",
       "    <tr>\n",
       "      <th>2413</th>\n",
       "      <td>10523</td>\n",
       "      <td>waiting for reassignment completion</td>\n",
       "      <td>0</td>\n",
       "      <td>[waiting, for, reassignment, completion]</td>\n",
       "    </tr>\n",
       "  </tbody>\n",
       "</table>\n",
       "<p>2414 rows × 4 columns</p>\n",
       "</div>"
      ],
      "text/plain": [
       "      index                         log_messages  log_level  \\\n",
       "0      7118                            opening            0   \n",
       "1      7133                       initializing            0   \n",
       "2      7611                              moved            0   \n",
       "3      7801                            renamed            0   \n",
       "4      8392                           bypassed            0   \n",
       "...     ...                                  ...        ...   \n",
       "2409  10315             wait for rolling restart          0   \n",
       "2410  10317             wait for rolling restart          0   \n",
       "2411  10318             wait for rolling restart          0   \n",
       "2412  10320             wait for rolling restart          0   \n",
       "2413  10523  waiting for reassignment completion          0   \n",
       "\n",
       "                        tokenized_log_messages  \n",
       "0                                    [opening]  \n",
       "1                               [initializing]  \n",
       "2                                      [moved]  \n",
       "3                                    [renamed]  \n",
       "4                                   [bypassed]  \n",
       "...                                        ...  \n",
       "2409             [wait, for, rolling, restart]  \n",
       "2410             [wait, for, rolling, restart]  \n",
       "2411             [wait, for, rolling, restart]  \n",
       "2412             [wait, for, rolling, restart]  \n",
       "2413  [waiting, for, reassignment, completion]  \n",
       "\n",
       "[2414 rows x 4 columns]"
      ]
     },
     "execution_count": 19,
     "metadata": {},
     "output_type": "execute_result"
    }
   ],
   "source": [
    "df1"
   ]
  },
  {
   "cell_type": "code",
   "execution_count": 20,
   "metadata": {
    "id": "l70FS1wZBZRt"
   },
   "outputs": [],
   "source": [
    "from sklearn.model_selection import train_test_split"
   ]
  },
  {
   "cell_type": "code",
   "execution_count": 21,
   "metadata": {
    "id": "12KEb-FEBfHg"
   },
   "outputs": [],
   "source": [
    "# Split the data into training and testing sets\n",
    "X_train, X_test, y_train, y_test = train_test_split(X, y, test_size=0.2, random_state=42)\n"
   ]
  },
  {
   "cell_type": "code",
   "execution_count": 22,
   "metadata": {
    "id": "19jKrg2FBjzJ"
   },
   "outputs": [],
   "source": [
    "from sklearn.ensemble import RandomForestClassifier"
   ]
  },
  {
   "cell_type": "code",
   "execution_count": null,
   "metadata": {
    "id": "WrW1SjkkEmgs"
   },
   "outputs": [],
   "source": []
  },
  {
   "cell_type": "code",
   "execution_count": 23,
   "metadata": {
    "colab": {
     "base_uri": "https://localhost:8080/",
     "height": 74
    },
    "id": "JG916aBACHUE",
    "outputId": "48cb07e7-1633-4e51-f34a-051ed6d71aad"
   },
   "outputs": [
    {
     "data": {
      "text/html": [
       "<style>#sk-container-id-1 {color: black;}#sk-container-id-1 pre{padding: 0;}#sk-container-id-1 div.sk-toggleable {background-color: white;}#sk-container-id-1 label.sk-toggleable__label {cursor: pointer;display: block;width: 100%;margin-bottom: 0;padding: 0.3em;box-sizing: border-box;text-align: center;}#sk-container-id-1 label.sk-toggleable__label-arrow:before {content: \"▸\";float: left;margin-right: 0.25em;color: #696969;}#sk-container-id-1 label.sk-toggleable__label-arrow:hover:before {color: black;}#sk-container-id-1 div.sk-estimator:hover label.sk-toggleable__label-arrow:before {color: black;}#sk-container-id-1 div.sk-toggleable__content {max-height: 0;max-width: 0;overflow: hidden;text-align: left;background-color: #f0f8ff;}#sk-container-id-1 div.sk-toggleable__content pre {margin: 0.2em;color: black;border-radius: 0.25em;background-color: #f0f8ff;}#sk-container-id-1 input.sk-toggleable__control:checked~div.sk-toggleable__content {max-height: 200px;max-width: 100%;overflow: auto;}#sk-container-id-1 input.sk-toggleable__control:checked~label.sk-toggleable__label-arrow:before {content: \"▾\";}#sk-container-id-1 div.sk-estimator input.sk-toggleable__control:checked~label.sk-toggleable__label {background-color: #d4ebff;}#sk-container-id-1 div.sk-label input.sk-toggleable__control:checked~label.sk-toggleable__label {background-color: #d4ebff;}#sk-container-id-1 input.sk-hidden--visually {border: 0;clip: rect(1px 1px 1px 1px);clip: rect(1px, 1px, 1px, 1px);height: 1px;margin: -1px;overflow: hidden;padding: 0;position: absolute;width: 1px;}#sk-container-id-1 div.sk-estimator {font-family: monospace;background-color: #f0f8ff;border: 1px dotted black;border-radius: 0.25em;box-sizing: border-box;margin-bottom: 0.5em;}#sk-container-id-1 div.sk-estimator:hover {background-color: #d4ebff;}#sk-container-id-1 div.sk-parallel-item::after {content: \"\";width: 100%;border-bottom: 1px solid gray;flex-grow: 1;}#sk-container-id-1 div.sk-label:hover label.sk-toggleable__label {background-color: #d4ebff;}#sk-container-id-1 div.sk-serial::before {content: \"\";position: absolute;border-left: 1px solid gray;box-sizing: border-box;top: 0;bottom: 0;left: 50%;z-index: 0;}#sk-container-id-1 div.sk-serial {display: flex;flex-direction: column;align-items: center;background-color: white;padding-right: 0.2em;padding-left: 0.2em;position: relative;}#sk-container-id-1 div.sk-item {position: relative;z-index: 1;}#sk-container-id-1 div.sk-parallel {display: flex;align-items: stretch;justify-content: center;background-color: white;position: relative;}#sk-container-id-1 div.sk-item::before, #sk-container-id-1 div.sk-parallel-item::before {content: \"\";position: absolute;border-left: 1px solid gray;box-sizing: border-box;top: 0;bottom: 0;left: 50%;z-index: -1;}#sk-container-id-1 div.sk-parallel-item {display: flex;flex-direction: column;z-index: 1;position: relative;background-color: white;}#sk-container-id-1 div.sk-parallel-item:first-child::after {align-self: flex-end;width: 50%;}#sk-container-id-1 div.sk-parallel-item:last-child::after {align-self: flex-start;width: 50%;}#sk-container-id-1 div.sk-parallel-item:only-child::after {width: 0;}#sk-container-id-1 div.sk-dashed-wrapped {border: 1px dashed gray;margin: 0 0.4em 0.5em 0.4em;box-sizing: border-box;padding-bottom: 0.4em;background-color: white;}#sk-container-id-1 div.sk-label label {font-family: monospace;font-weight: bold;display: inline-block;line-height: 1.2em;}#sk-container-id-1 div.sk-label-container {text-align: center;}#sk-container-id-1 div.sk-container {/* jupyter's `normalize.less` sets `[hidden] { display: none; }` but bootstrap.min.css set `[hidden] { display: none !important; }` so we also need the `!important` here to be able to override the default hidden behavior on the sphinx rendered scikit-learn.org. See: https://github.com/scikit-learn/scikit-learn/issues/21755 */display: inline-block !important;position: relative;}#sk-container-id-1 div.sk-text-repr-fallback {display: none;}</style><div id=\"sk-container-id-1\" class=\"sk-top-container\"><div class=\"sk-text-repr-fallback\"><pre>RandomForestClassifier()</pre><b>In a Jupyter environment, please rerun this cell to show the HTML representation or trust the notebook. <br />On GitHub, the HTML representation is unable to render, please try loading this page with nbviewer.org.</b></div><div class=\"sk-container\" hidden><div class=\"sk-item\"><div class=\"sk-estimator sk-toggleable\"><input class=\"sk-toggleable__control sk-hidden--visually\" id=\"sk-estimator-id-1\" type=\"checkbox\" checked><label for=\"sk-estimator-id-1\" class=\"sk-toggleable__label sk-toggleable__label-arrow\">RandomForestClassifier</label><div class=\"sk-toggleable__content\"><pre>RandomForestClassifier()</pre></div></div></div></div></div>"
      ],
      "text/plain": [
       "RandomForestClassifier()"
      ]
     },
     "execution_count": 23,
     "metadata": {},
     "output_type": "execute_result"
    }
   ],
   "source": [
    "model=RandomForestClassifier()\n",
    "model.fit(X_train, y_train)\n"
   ]
  },
  {
   "cell_type": "code",
   "execution_count": 24,
   "metadata": {
    "id": "Sjy1N6kvCvPG"
   },
   "outputs": [],
   "source": [
    "\n",
    "y_pred = model.predict(X_test)"
   ]
  },
  {
   "cell_type": "code",
   "execution_count": 25,
   "metadata": {
    "id": "MNCmczRVC8id"
   },
   "outputs": [],
   "source": [
    "from sklearn.metrics import accuracy_score, classification_report"
   ]
  },
  {
   "cell_type": "code",
   "execution_count": 26,
   "metadata": {
    "id": "p0Dr1TYtC2zP"
   },
   "outputs": [],
   "source": [
    "# Evaluate the model\n",
    "accuracy = accuracy_score(y_test, y_pred)\n",
    "report = classification_report(y_test, y_pred)"
   ]
  },
  {
   "cell_type": "code",
   "execution_count": 27,
   "metadata": {
    "colab": {
     "base_uri": "https://localhost:8080/"
    },
    "id": "DqoiK3LTC4_H",
    "outputId": "1dd40288-d1b6-49f4-fbec-e5ced56c71b5"
   },
   "outputs": [
    {
     "name": "stdout",
     "output_type": "stream",
     "text": [
      "Accuracy: 0.9585921325051759\n",
      "              precision    recall  f1-score   support\n",
      "\n",
      "       error       0.93      0.89      0.91       112\n",
      "        info       0.97      0.98      0.97       371\n",
      "\n",
      "    accuracy                           0.96       483\n",
      "   macro avg       0.95      0.94      0.94       483\n",
      "weighted avg       0.96      0.96      0.96       483\n",
      "\n"
     ]
    }
   ],
   "source": [
    "print(f\"Accuracy: {accuracy}\")\n",
    "print(report)"
   ]
  },
  {
   "cell_type": "code",
   "execution_count": 34,
   "metadata": {
    "id": "A9BkaVVfC_uY"
   },
   "outputs": [
    {
     "name": "stdout",
     "output_type": "stream",
     "text": [
      "done\n",
      "done\n",
      "['info' 'info' 'info' 'info' 'error' 'info' 'info' 'info' 'info']\n",
      "Accuracy: 0.56\n",
      "Precision: 0.50\n",
      "Recall: 1.00\n",
      "F1 Score: 0.67\n",
      "Confusion Matrix:\n",
      "[[1 4]\n",
      " [0 4]]\n"
     ]
    },
    {
     "data": {
      "image/png": "[encoded data removed]",
      "text/plain": [
       "<Figure size 640x480 with 2 Axes>"
      ]
     },
     "metadata": {},
     "output_type": "display_data"
    }
   ],
   "source": [
    "from sklearn.metrics import accuracy_score, precision_score, recall_score, f1_score, confusion_matrix#, plot_confusion_matrix\n",
    "from sklearn.metrics import confusion_matrix, ConfusionMatrixDisplay\n",
    "# Referred to https://learn.microsoft.com/en-us/previous-versions/windows/desktop/bb226812(v=vs.85) to construct representative log messages.\n",
    "messages = [\"Out of memory\", \"File format does not match required format\",\"Near memory limit\", \"Program crashed when loading file\", \"File not found\", \"Could not complete operation index out of bounds.\", \"File Transfer Complete\", \"File loaded\", \"Timeout system connection could not be established\"]\n",
    "#The codding for the log messages is: {INFO: 1, ERROR:0}.\n",
    "true_labels = [0,0,1,1,0,0,1,1,0]\n",
    "    \n",
    "# Feature extraction using TF-IDF\n",
    "\n",
    "message_Vect = tfidf_vectorizer.transform(messages)\n",
    "\n",
    "predicted_labels = model.predict(message_Vect)\n",
    "predicted_lables_bin = []\n",
    "for i in predicted_labels:\n",
    "    if i=='info':\n",
    "        predicted_lables_bin.append(1)\n",
    "    else:\n",
    "        predicted_lables_bin.append(0)\n",
    "    \n",
    "print('done')\n",
    "#Calculates accuracy\n",
    "accuracy = accuracy_score(true_labels,predicted_lables_bin)\n",
    "print(predicted_labels)\n",
    "# Calculate precision, recall, and F1 score\n",
    "precision = precision_score(true_labels,predicted_lables_bin)\n",
    "recall = recall_score(true_labels, predicted_lables_bin)\n",
    "f1 = f1_score(true_labels, predicted_lables_bin)\n",
    "\n",
    "# Calculate confusion matrix\n",
    "confusion = confusion_matrix(true_labels, predicted_lables_bin)\n",
    "\n",
    "print(f\"Accuracy: {accuracy:.2f}\")\n",
    "print(f\"Precision: {precision:.2f}\")\n",
    "print(f\"Recall: {recall:.2f}\")\n",
    "print(f\"F1 Score: {f1:.2f}\")\n",
    "print(\"Confusion Matrix:\")\n",
    "print(confusion)\n",
    "\n",
    "import matplotlib.pyplot as plt\n",
    "cm = confusion_matrix(true_labels, predicted_lables_bin)\n",
    "cmd_obj = ConfusionMatrixDisplay(cm, display_labels=['0', '1'])\n",
    "cmd_obj.plot()\n",
    "cmd_obj.ax_.set(title='Confusion Matrix')\n",
    "plt.show()"
   ]
  },
  {
   "cell_type": "code",
   "execution_count": null,
   "metadata": {},
   "outputs": [],
   "source": []
  }
 ],
 "metadata": {
  "colab": {
   "provenance": []
  },
  "kernelspec": {
   "display_name": "Python 3 (ipykernel)",
   "language": "python",
   "name": "python3"
  },
  "language_info": {
   "codemirror_mode": {
    "name": "ipython",
    "version": 3
   },
   "file_extension": ".py",
   "mimetype": "text/x-python",
   "name": "python",
   "nbconvert_exporter": "python",
   "pygments_lexer": "ipython3",
   "version": "3.11.5"
  }
 },
 "nbformat": 4,
 "nbformat_minor": 1
}
